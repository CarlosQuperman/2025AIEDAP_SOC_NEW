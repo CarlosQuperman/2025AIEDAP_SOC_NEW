{
  "nbformat": 4,
  "nbformat_minor": 0,
  "metadata": {
    "colab": {
      "provenance": []
    },
    "kernelspec": {
      "name": "python3",
      "display_name": "Python 3"
    },
    "language_info": {
      "name": "python"
    }
  },
  "cells": [
    {
      "cell_type": "markdown",
      "source": [
        "### 교통 소외 지역의 대중교통 접근성 향상을 위해서\n",
        "\n",
        "* 지역(강원도 춘천시)의 버스 정류장 정보와 보선 노선 운행 정보를 바탕으로\n",
        "* 정류장별로 어떤 노선(버스 번호)이 몇 개나 다니는지에 대한 수치적 데이터 분석을 진행하고\n",
        "* 이를 지도 상에 시각화하는 활동을 수행해보자\n",
        "* 위성 지도 상에 버스 정류장의 위치 정보를 마커로 표시하고 마커의 색은 전체 버스 정류장 노선 정치횟수의 통계적 분석 횟수를 기준으로 표시해보자\n"
      ],
      "metadata": {
        "id": "DVMkECIx155F"
      }
    },
    {
      "cell_type": "code",
      "source": [
        "#위성 지도 생성을 위한 프로그래밍 도구(라이브러리) 설치\n",
        "\n",
        "!pip install leafmap"
      ],
      "metadata": {
        "id": "iaT1JJ1v3niF"
      },
      "execution_count": null,
      "outputs": []
    },
    {
      "cell_type": "code",
      "execution_count": null,
      "metadata": {
        "id": "DyZnKRVHOFsq"
      },
      "outputs": [],
      "source": [
        "#테이블 데이터(표)를 다루기 적절한 판다스 라이브러리와 춘천시 버스 정류장 위치 정보 파일 데이터를 활용해 데이터를 kang_bus에 저장하기\n",
        "\n",
        "import pandas as pd\n",
        "\n",
        "pd.set_option('display.max_rows', None) #줄이 안짤리게 최대로 출력하게 하는 코드\n",
        "\n",
        "kang_bus = pd.read_csv(\"https://github.com/CarlosQuperman/2025AIEDAP_SOC_NEW/raw/refs/heads/main/%EA%B0%95%EC%9B%90%ED%8A%B9%EB%B3%84%EC%9E%90%EC%B9%98%EB%8F%84%20%EC%B6%98%EC%B2%9C%EC%8B%9C_%EB%B2%84%EC%8A%A4%EC%A0%95%EB%A5%98%EC%9E%A5%20%EC%9C%84%EC%B9%98%EC%A0%95%EB%B3%B4_20250212.csv\",encoding='cp949') ### df에 판다스에 있는 도구 중 read_csv를 사용해 선생님이 준비한 강원도 상가(상권) 데이터를 가져와 저장함\n",
        "\n",
        "display(kang_bus.info())\n",
        "display(kang_bus.head()) #처음부터 확인할 데이터의 개수 입력하기"
      ]
    },
    {
      "cell_type": "code",
      "source": [
        "#정류장명이 동일한 문제를 해결하기 위해 정류장명과 관리번호를 통합하여 새로운 속성값 생성\n",
        "# 그 전에 정류장명에 있는 공백값을 제거하는 데이터 전처리 진행하기\n",
        "\n",
        "kang_bus['정류장명'] = kang_bus['정류장명'].str.replace(' ', '') #공백제거\n",
        "kang_bus['관리번호_정류장명'] = kang_bus['관리번호'].astype(str)+kang_bus['정류장명']\n",
        "display(kang_bus.info())\n",
        "display(kang_bus.head()) #처음부터 확인할 데이터의 개수 입력하기"
      ],
      "metadata": {
        "id": "xo6ZNMwpPa76"
      },
      "execution_count": null,
      "outputs": []
    },
    {
      "cell_type": "code",
      "source": [
        "#정류장의 이름과 관리번호와 정류장명을 통합한 값 중 중복되지 않은 값만 출력해서 데이터 확인해보기\n",
        "\n",
        "display(kang_bus['정류장명'].unique())\n",
        "print(len(kang_bus['정류장명'].unique()))\n",
        "print(len(kang_bus['관리번호_정류장명'].unique()))"
      ],
      "metadata": {
        "id": "WPrCjusvPlUy"
      },
      "execution_count": null,
      "outputs": []
    },
    {
      "cell_type": "code",
      "source": [
        "#강원특별자치도 춘천시의 버스 운행정보를 kang_route에 저장하고 데이터의 양상 확인해보기\n",
        "kang_route = pd.read_csv(\"https://github.com/CarlosQuperman/2025AIEDAP_SOC_NEW/raw/refs/heads/main/%EA%B0%95%EC%9B%90%ED%8A%B9%EB%B3%84%EC%9E%90%EC%B9%98%EB%8F%84%20%EC%B6%98%EC%B2%9C%EC%8B%9C_%EB%B2%84%EC%8A%A4%EC%A0%95%EB%A5%98%EC%9E%A5%20%EB%85%B8%EC%84%A0%EC%A0%95%EB%B3%B4_20250212.csv\",encoding='cp949')\n",
        "\n",
        "display(kang_route.info())\n",
        "display(kang_route.head()) #처음부터 확인할 데이터의 개수 입력하기"
      ],
      "metadata": {
        "id": "fSByGFwWdy6-"
      },
      "execution_count": null,
      "outputs": []
    },
    {
      "cell_type": "code",
      "source": [
        "#정류장 위치정보와 마찬가지로 정류장명에서 공백을 제거하고 관리번호와 정류장명을 병합한 새로운 속성 만들어주기(동일이름 정류장이지만 방향이 다른 정류장을 구별해주기 위해)\n",
        "kang_route['정류장명'] = kang_route['정류장명'].str.replace(' ', '')\n",
        "kang_route['관리번호_정류장명'] = kang_route['정류장'].astype(str)+kang_route['정류장명']\n",
        "display(kang_route.info())\n",
        "display(kang_route.head())"
      ],
      "metadata": {
        "id": "6Tzh7h7FeDN5"
      },
      "execution_count": null,
      "outputs": []
    },
    {
      "cell_type": "code",
      "source": [
        "#버스 운행 정보가 저장된 kang_route를 처음부터 끝까지 돌면서 버스 정류장별 노선 정차횟수\n",
        "#버스 정류장별 정차 노선이름(버스 이름 저장하기)\n",
        "#dict_bus_station : 정류장별 정차 노선 갯수\n",
        "#dict_bus_station_name 정류장별 정차 노선 이름\n",
        "\n",
        "import numpy as np\n",
        "from scipy import stats\n",
        "\n",
        "#버스 정류장별 노선 정차횟수 저장 딕셔너리\n",
        "dict_bus_station = {key:0 for key in list(kang_route['관리번호_정류장명'].unique())}\n",
        "\n",
        "#버스 정류장별 정차 버스 번호 이름 저장 딕셔너리\n",
        "dict_bus_station_name = {key:set() for key in list(kang_route['관리번호_정류장명'].unique())}\n",
        "\n",
        "\n",
        "#버스 노선 정보를 한줄씩 처음부터 끝까지 돌면서 관리번호_정류장명에 지나는 노선 횟수를 계산해서 하나씩 증가하고\n",
        "#그 정류장에 어떤 버스가 서는지를 저장하고 출력함\n",
        "\n",
        "for i in kang_route.index :\n",
        "  station_name = kang_route.loc[i,'관리번호_정류장명']\n",
        "  bus_number = kang_route.loc[i,'노선번호']+'번'\n",
        "  if station_name in dict_bus_station:\n",
        "    dict_bus_station[station_name]+=1\n",
        "    dict_bus_station_name[station_name].add(bus_number)\n",
        "\n",
        "print(dict_bus_station)\n",
        "print(dict_bus_station_name)\n",
        "\n",
        "#노선별 정차횟수를 계산한 후 내용 출력\n",
        "total_values = sum(dict_bus_station.values())\n",
        "print(total_values)\n",
        "\n",
        "# 최소값 확인\n",
        "min_value = min(dict_bus_station.values())\n",
        "print(f\"Min value: {min_value}\")\n",
        "\n",
        "# 최대값 확인\n",
        "max_value = max(dict_bus_station.values())\n",
        "print(f\"Max value: {max_value}\")\n",
        "\n",
        "# 딕셔너리의 value 값들을 numpy array로 변환\n",
        "values = np.array(list(dict_bus_station.values()))\n",
        "\n",
        "# 중앙값(median) 계산\n",
        "median = np.median(values)\n",
        "print(f\"Median: {median}\")\n",
        "\n",
        "# 사분위수(quantiles) 계산\n",
        "lower_quartile = np.percentile(values, 25) #하위 25\n",
        "upper_quartile = np.percentile(values, 75) #상위 25\n",
        "print(f\"Lower Quartile: {lower_quartile}\")\n",
        "print(f\"Upper Quartile: {upper_quartile}\")\n",
        "\n"
      ],
      "metadata": {
        "id": "L1dk5z3we-J3"
      },
      "execution_count": null,
      "outputs": []
    },
    {
      "cell_type": "code",
      "source": [
        "#folium 라이브리를 활용 지역(춘천시)의 버스 정류장 정보(정류장 위치, 정류장별 정차 노선 횟수 및 이름) 출력하기\n",
        "\n",
        "import leafmap.foliumap as leafmap\n",
        "import folium # 포리움 라이브러리\n",
        "from folium.plugins import MarkerCluster\n",
        "\n",
        "m = leafmap.Map(center=(37.87318902604981, 127.74950156136796),zoom=4) #지도의 시작값과 확대 정도를 지정하고 만들어줌\n",
        "m.add_basemap(\"HYBRID\") #위성 지도 생성을 위한 기본맵 생성\n",
        "marker_cluster = MarkerCluster().add_to(m) #2. MarkerCluster에 m 추가\n",
        "\n",
        "except_count = 0\n",
        "\n",
        "for i in kang_bus.index : #위치번호(index)로 처음부터 끝까지 돌면서\n",
        "  if kang_bus.loc[i,'위도']!='0' and kang_bus.loc[i,'경도']!='0': ### 위도와 경도가 둘 다 0이 아니면을 나타내도록\n",
        "    station_name = kang_bus.loc[i,'관리번호_정류장명']\n",
        "    station_stop_name = '없음'\n",
        "    #print(station_name)\n",
        "    ### 우리가 필요한 정보는 위도, 경도, 상호명, 주소\n",
        "    lat = kang_bus.loc[i,'위도']\n",
        "    lon = kang_bus.loc[i,'경도']\n",
        "    title = kang_bus.loc[i,'정류장명']\n",
        "\n",
        "    icon_color = 'black' ###색지정(파란색으로)\n",
        "    try:\n",
        "      if '수협' in station_name:\n",
        "        print(station_name,dict_bus_station[station_name])\n",
        "      if dict_bus_station[station_name] == 0: #데이터 없음\n",
        "        station_stop_number = 0\n",
        "        station_stop_number = '정차수 0'\n",
        "      elif dict_bus_station[station_name] >= 8:#상위 25%\n",
        "        icon_color = 'blue'\n",
        "        station_stop_number = dict_bus_station[station_name]\n",
        "        station_stop_name = dict_bus_station_name[station_name]\n",
        "      elif dict_bus_station[station_name] <= 4: #하위 25%\n",
        "        icon_color ='red'\n",
        "        station_stop_number = dict_bus_station[station_name]\n",
        "        station_stop_name = dict_bus_station_name[station_name]\n",
        "      else: #25~75% 구간\n",
        "        icon_color = 'green'\n",
        "        station_stop_number = dict_bus_station[station_name]\n",
        "        station_stop_name = dict_bus_station_name[station_name]\n",
        "    except Exception as e:\n",
        "      #print(f'{e} 발생')\n",
        "      icon_color = 'gray' ###색지정(파란색으로)\n",
        "      station_stop_number = '정류장 위치 정보에는 있지만 노선정보가 없습니다'\n",
        "      except_count+=1\n",
        "\n",
        "\n",
        "\n",
        "\n",
        "    folium.Marker([lat,lon], popup=folium.Popup(f\"\"\"\n",
        "        <b>정류장 노선 정차 횟수:</b> {station_stop_number}<br>\n",
        "        <b>정류장 정차 노선 이름:</b> {station_stop_name}\"\"\", max_width=300), tooltip=title,icon=folium.Icon(color=icon_color)).add_to(marker_cluster)\n",
        "print(\"정류장은 있지만 노선 정보가 없는 정류장의 수 : \",except_count)\n",
        "m\n"
      ],
      "metadata": {
        "id": "0SfW4MopfM5Q"
      },
      "execution_count": null,
      "outputs": []
    },
    {
      "cell_type": "code",
      "source": [
        "m.to_html('춘천시 버스정류장 위치 및 노선 정보 시각화.html')"
      ],
      "metadata": {
        "id": "erPc2tLP5JTl"
      },
      "execution_count": 32,
      "outputs": []
    }
  ]
}
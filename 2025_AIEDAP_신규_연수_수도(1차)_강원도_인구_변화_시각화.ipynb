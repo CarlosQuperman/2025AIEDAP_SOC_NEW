{
  "nbformat": 4,
  "nbformat_minor": 0,
  "metadata": {
    "colab": {
      "provenance": []
    },
    "kernelspec": {
      "name": "python3",
      "display_name": "Python 3"
    },
    "language_info": {
      "name": "python"
    }
  },
  "cells": [
    {
      "cell_type": "markdown",
      "source": [
        "#### 강원도 연도별 시군구 인구 통계\n",
        "* https://github.com/CarlosQuperman/sdhs202121/blob/main/%EA%B0%95%EC%9B%90%EB%8F%84_%EC%8B%9C%EA%B5%B0%EB%B3%84%20%EC%84%B8%EB%8C%80%EC%9D%B8%EA%B5%AC%20%ED%86%B5%EA%B3%84_20200630%20(1).csv"
      ],
      "metadata": {
        "id": "3x6LqsTpZKY8"
      }
    },
    {
      "cell_type": "code",
      "execution_count": null,
      "metadata": {
        "id": "eCYGV0PPZAv0"
      },
      "outputs": [],
      "source": [
        "\n",
        "#프로그래밍 시각화를 위한 도구 불러오기\n",
        "\n",
        "import pandas as pd\n",
        "import plotly.express as px\n",
        "\n",
        "#데이터 파일(CSV) 불러와 저장하고 정보 파악하기\n",
        "\n",
        "kang_pop = pd.read_csv(\"\")\n",
        "display(kang_pop.head())\n",
        "display(kang_pop.info())"
      ]
    },
    {
      "cell_type": "code",
      "source": [
        "a = px.bar(kang_pop,x=\"시군명\",y=\"인구 (명)\",animation_frame=\"\",animation_group=\"시군명\",color=\"시군명\")\n",
        "a"
      ],
      "metadata": {
        "id": "maVNYVeuZYBF"
      },
      "execution_count": null,
      "outputs": []
    },
    {
      "cell_type": "code",
      "source": [
        "a.write_html(\"\")"
      ],
      "metadata": {
        "id": "ccfmb3OVZjVp"
      },
      "execution_count": 3,
      "outputs": []
    }
  ]
}